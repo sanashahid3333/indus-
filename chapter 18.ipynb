{
 "cells": [
  {
   "cell_type": "code",
   "execution_count": 1,
   "metadata": {},
   "outputs": [
    {
     "name": "stdout",
     "output_type": "stream",
     "text": [
      "['Buy Groceries', 'Pay Bills', 'Attend Meeting']\n",
      "['Buy Groceries', 'Attend Meeting']\n"
     ]
    }
   ],
   "source": [
    "#TODO List \n",
    "\n",
    "Tasks = [\"Buy Groceries\", \"Pay Bills\", \"Attend Meeting\"];\n",
    "\n",
    "print(Tasks);\n",
    "\n",
    "#Removing Tasks from list \n",
    "Tasks.remove(\"Pay Bills\");\n",
    "print (Tasks);"
   ]
  },
  {
   "cell_type": "code",
   "execution_count": null,
   "metadata": {},
   "outputs": [],
   "source": []
  }
 ],
 "metadata": {
  "kernelspec": {
   "display_name": "Python 3",
   "language": "python",
   "name": "python3"
  },
  "language_info": {
   "codemirror_mode": {
    "name": "ipython",
    "version": 3
   },
   "file_extension": ".py",
   "mimetype": "text/x-python",
   "name": "python",
   "nbconvert_exporter": "python",
   "pygments_lexer": "ipython3",
   "version": "3.6.5"
  }
 },
 "nbformat": 4,
 "nbformat_minor": 2
}
