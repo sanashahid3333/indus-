{
 "cells": [
  {
   "cell_type": "code",
   "execution_count": 1,
   "metadata": {},
   "outputs": [
    {
     "name": "stdout",
     "output_type": "stream",
     "text": [
      "Task Completed\n",
      "Task Completed\n"
     ]
    }
   ],
   "source": [
    "Task_to_check = \"Buy Groceries\" \n",
    "\n",
    "Tasks = [\"Buy Drinks\", \"Pay bills\", \"Buy Groceries\", \"Wash Car\"]\n",
    "if Task_to_check == Tasks[0]:\n",
    "    print(\"Task Completed\")\n",
    "elif Task_to_check == Tasks[1]:\n",
    "    print(\"Task Does not match list\")\n",
    "elif Task_to_check == Tasks[2]:\n",
    "    print(\"Task Completed\")\n",
    "    \n",
    "    \n",
    "for a_task_completed in Tasks:\n",
    "    if Task_to_check == a_task_completed:\n",
    "        print(\"Task Completed\")"
   ]
  },
  {
   "cell_type": "code",
   "execution_count": null,
   "metadata": {},
   "outputs": [],
   "source": []
  }
 ],
 "metadata": {
  "kernelspec": {
   "display_name": "Python 3",
   "language": "python",
   "name": "python3"
  },
  "language_info": {
   "codemirror_mode": {
    "name": "ipython",
    "version": 3
   },
   "file_extension": ".py",
   "mimetype": "text/x-python",
   "name": "python",
   "nbconvert_exporter": "python",
   "pygments_lexer": "ipython3",
   "version": "3.6.5"
  }
 },
 "nbformat": 4,
 "nbformat_minor": 2
}
