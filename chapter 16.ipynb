{
 "cells": [
  {
   "cell_type": "code",
   "execution_count": 1,
   "metadata": {},
   "outputs": [
    {
     "name": "stdout",
     "output_type": "stream",
     "text": [
      "['sana', 'asma', 'ammara', 'farheen']\n",
      "['sana', 'maryam', 'asma', 'ammara', 'farheen', 'muniba']\n"
     ]
    }
   ],
   "source": [
    "Names = ['sana', 'asma', 'ammara', 'farheen']\n",
    "print (Names)\n",
    "\n",
    "\n",
    "Names.append(\"muniba\")\n",
    "Names.insert(1,'maryam')\n",
    "\n",
    "print (Names)"
   ]
  },
  {
   "cell_type": "code",
   "execution_count": null,
   "metadata": {},
   "outputs": [],
   "source": []
  }
 ],
 "metadata": {
  "kernelspec": {
   "display_name": "Python 3",
   "language": "python",
   "name": "python3"
  },
  "language_info": {
   "codemirror_mode": {
    "name": "ipython",
    "version": 3
   },
   "file_extension": ".py",
   "mimetype": "text/x-python",
   "name": "python",
   "nbconvert_exporter": "python",
   "pygments_lexer": "ipython3",
   "version": "3.6.5"
  }
 },
 "nbformat": 4,
 "nbformat_minor": 2
}
