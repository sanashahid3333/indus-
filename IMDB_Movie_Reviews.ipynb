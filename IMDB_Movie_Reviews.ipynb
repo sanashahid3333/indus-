{
  "nbformat": 4,
  "nbformat_minor": 0,
  "metadata": {
    "colab": {
      "name": "IMDB_Movie_Reviews.ipynb",
      "version": "0.3.2",
      "provenance": [],
      "include_colab_link": true
    },
    "kernelspec": {
      "name": "python2",
      "display_name": "Python 2"
    }
  },
  "cells": [
    {
      "cell_type": "markdown",
      "metadata": {
        "id": "view-in-github",
        "colab_type": "text"
      },
      "source": [
        "<a href=\"https://colab.research.google.com/github/sanashahid3333/indus-/blob/master/IMDB_Movie_Reviews.ipynb\" target=\"_parent\"><img src=\"https://colab.research.google.com/assets/colab-badge.svg\" alt=\"Open In Colab\"/></a>"
      ]
    },
    {
      "metadata": {
        "id": "cGIroPL3LUVV",
        "colab_type": "code",
        "colab": {
          "base_uri": "https://localhost:8080/",
          "height": 85
        },
        "outputId": "4743db4e-4b57-433e-dc43-c0bd8a9fcd89"
      },
      "cell_type": "code",
      "source": [
        "from keras.datasets import imdb \n",
        "\n",
        "(train_data, train_labels), (test_data, test_labels) = imdb.load_data(num_words = 10000)"
      ],
      "execution_count": 1,
      "outputs": [
        {
          "output_type": "stream",
          "text": [
            "Using TensorFlow backend.\n"
          ],
          "name": "stderr"
        },
        {
          "output_type": "stream",
          "text": [
            "Downloading data from https://s3.amazonaws.com/text-datasets/imdb.npz\n",
            "17465344/17464789 [==============================] - 1s 0us/step\n",
            "17473536/17464789 [==============================] - 1s 0us/step\n"
          ],
          "name": "stdout"
        }
      ]
    },
    {
      "metadata": {
        "id": "EX-wpM2rLoIm",
        "colab_type": "code",
        "colab": {
          "base_uri": "https://localhost:8080/",
          "height": 34
        },
        "outputId": "72058d7b-b1ed-4cbb-d005-8368656950e5"
      },
      "cell_type": "code",
      "source": [
        "max([max(sequence) for sequence in train_data])"
      ],
      "execution_count": 2,
      "outputs": [
        {
          "output_type": "execute_result",
          "data": {
            "text/plain": [
              "9999"
            ]
          },
          "metadata": {
            "tags": []
          },
          "execution_count": 2
        }
      ]
    },
    {
      "metadata": {
        "id": "QcVvqPaoLqry",
        "colab_type": "code",
        "colab": {
          "base_uri": "https://localhost:8080/",
          "height": 68
        },
        "outputId": "4aef45ab-fbfa-4934-acbc-f143ea19d27e"
      },
      "cell_type": "code",
      "source": [
        "import collections\n",
        "\n",
        "word_index = imdb.get_word_index()\n",
        "reverse_word_index = dict(\n",
        "    [(value, key) for (value, key) in word_index.items()])\n",
        "\n",
        "decoded_review = ' '.join(\n",
        "    [reverse_word_index.get(i - 3, '?') for i in train_data[0]])"
      ],
      "execution_count": 3,
      "outputs": [
        {
          "output_type": "stream",
          "text": [
            "Downloading data from https://s3.amazonaws.com/text-datasets/imdb_word_index.json\n",
            "1646592/1641221 [==============================] - 1s 1us/step\n",
            "1654784/1641221 [==============================] - 1s 1us/step\n"
          ],
          "name": "stdout"
        }
      ]
    },
    {
      "metadata": {
        "id": "-5AmGFDQL0JK",
        "colab_type": "code",
        "colab": {}
      },
      "cell_type": "code",
      "source": [
        "import numpy as np\n",
        "def vectorize_sequences(sequences, dimension=10000):\n",
        "    results = np.zeros((len(sequences), dimension))\n",
        "    for i, sequence in enumerate(sequences):\n",
        "        results[i, sequence] = 1.\n",
        "    return results\n",
        "\n",
        "x_train = vectorize_sequences(train_data)\n",
        "x_test = vectorize_sequences(test_data)"
      ],
      "execution_count": 0,
      "outputs": []
    },
    {
      "metadata": {
        "id": "m8Kys27uL6TJ",
        "colab_type": "code",
        "colab": {}
      },
      "cell_type": "code",
      "source": [
        "y_train = np.asarray(train_labels).astype('float32')\n",
        "y_test = np.asarray(test_labels).astype('float32')"
      ],
      "execution_count": 0,
      "outputs": []
    },
    {
      "metadata": {
        "id": "a1AImIf_MAQs",
        "colab_type": "code",
        "colab": {}
      },
      "cell_type": "code",
      "source": [
        "from keras import models\n",
        "from keras import layers\n",
        "model = models.Sequential()\n",
        "model.add(layers.Dense(16, activation='relu', input_shape=(10000,)))\n",
        "model.add(layers.Dense(16, activation='relu'))\n",
        "model.add(layers.Dense(1, activation='sigmoid'))"
      ],
      "execution_count": 0,
      "outputs": []
    },
    {
      "metadata": {
        "id": "oX5ZBNmsMD13",
        "colab_type": "code",
        "colab": {}
      },
      "cell_type": "code",
      "source": [
        "model.compile(optimizer='rmsprop',\n",
        "              loss='binary_crossentropy',\n",
        "              metrics=['accuracy'])"
      ],
      "execution_count": 0,
      "outputs": []
    },
    {
      "metadata": {
        "id": "zN8e8dtGMHYB",
        "colab_type": "code",
        "colab": {}
      },
      "cell_type": "code",
      "source": [
        "from keras import optimizers\n",
        "\n",
        "model.compile(optimizer=optimizers.RMSprop(lr=0.001),\n",
        "              loss='binary_crossentropy',\n",
        "              metrics=['accuracy'])"
      ],
      "execution_count": 0,
      "outputs": []
    },
    {
      "metadata": {
        "id": "sp4qnjO1MLWS",
        "colab_type": "code",
        "colab": {}
      },
      "cell_type": "code",
      "source": [
        "from keras import losses\n",
        "from keras import metrics\n",
        "\n",
        "model.compile(optimizer=optimizers.RMSprop(lr=0.001),\n",
        "              loss=losses.binary_crossentropy,\n",
        "              metrics=[metrics.binary_accuracy])"
      ],
      "execution_count": 0,
      "outputs": []
    },
    {
      "metadata": {
        "id": "gUmi07okMWlf",
        "colab_type": "code",
        "colab": {}
      },
      "cell_type": "code",
      "source": [
        "x_val = x_train[:10000]\n",
        "partial_x_train = x_train[10000:]\n",
        "y_val = y_train[:10000]\n",
        "partial_y_train = y_train[10000:]"
      ],
      "execution_count": 0,
      "outputs": []
    },
    {
      "metadata": {
        "id": "doiP5gNoMbqA",
        "colab_type": "code",
        "colab": {
          "base_uri": "https://localhost:8080/",
          "height": 714
        },
        "outputId": "b55ae5f6-1308-49d2-ebb5-7f413c2df985"
      },
      "cell_type": "code",
      "source": [
        "model.compile(optimizer='rmsprop',\n",
        "loss='binary_crossentropy',\n",
        "              metrics=['acc'])\n",
        "history = model.fit(partial_x_train,\n",
        "                    partial_y_train,\n",
        "                    epochs=20,\n",
        "                    batch_size=512,\n",
        "                    validation_data=(x_val, y_val))"
      ],
      "execution_count": 12,
      "outputs": [
        {
          "output_type": "stream",
          "text": [
            "Train on 15000 samples, validate on 10000 samples\n",
            "Epoch 1/20\n",
            "15000/15000 [==============================] - 2s 166us/step - loss: 0.5097 - acc: 0.7797 - val_loss: 0.3829 - val_acc: 0.8672\n",
            "Epoch 2/20\n",
            "15000/15000 [==============================] - 2s 155us/step - loss: 0.3013 - acc: 0.9042 - val_loss: 0.2999 - val_acc: 0.8907\n",
            "Epoch 3/20\n",
            "15000/15000 [==============================] - 2s 153us/step - loss: 0.2164 - acc: 0.9281 - val_loss: 0.3092 - val_acc: 0.8713\n",
            "Epoch 4/20\n",
            "15000/15000 [==============================] - 2s 154us/step - loss: 0.1724 - acc: 0.9439 - val_loss: 0.2818 - val_acc: 0.8861\n",
            "Epoch 5/20\n",
            "15000/15000 [==============================] - 2s 153us/step - loss: 0.1386 - acc: 0.9551 - val_loss: 0.2852 - val_acc: 0.8868\n",
            "Epoch 6/20\n",
            "15000/15000 [==============================] - 2s 153us/step - loss: 0.1109 - acc: 0.9664 - val_loss: 0.3148 - val_acc: 0.8783\n",
            "Epoch 7/20\n",
            "15000/15000 [==============================] - 2s 152us/step - loss: 0.0929 - acc: 0.9729 - val_loss: 0.3163 - val_acc: 0.8848\n",
            "Epoch 8/20\n",
            "15000/15000 [==============================] - 2s 151us/step - loss: 0.0755 - acc: 0.9780 - val_loss: 0.3891 - val_acc: 0.8651\n",
            "Epoch 9/20\n",
            "15000/15000 [==============================] - 2s 153us/step - loss: 0.0609 - acc: 0.9837 - val_loss: 0.3710 - val_acc: 0.8767\n",
            "Epoch 10/20\n",
            "15000/15000 [==============================] - 2s 153us/step - loss: 0.0499 - acc: 0.9869 - val_loss: 0.3910 - val_acc: 0.8787\n",
            "Epoch 11/20\n",
            "15000/15000 [==============================] - 2s 152us/step - loss: 0.0403 - acc: 0.9903 - val_loss: 0.4264 - val_acc: 0.8767\n",
            "Epoch 12/20\n",
            "15000/15000 [==============================] - 2s 153us/step - loss: 0.0314 - acc: 0.9940 - val_loss: 0.4662 - val_acc: 0.8699\n",
            "Epoch 13/20\n",
            "15000/15000 [==============================] - 2s 153us/step - loss: 0.0246 - acc: 0.9953 - val_loss: 0.4816 - val_acc: 0.8759\n",
            "Epoch 14/20\n",
            "15000/15000 [==============================] - 2s 153us/step - loss: 0.0209 - acc: 0.9959 - val_loss: 0.5132 - val_acc: 0.8722\n",
            "Epoch 15/20\n",
            "15000/15000 [==============================] - 2s 154us/step - loss: 0.0187 - acc: 0.9962 - val_loss: 0.5371 - val_acc: 0.8715\n",
            "Epoch 16/20\n",
            "15000/15000 [==============================] - 2s 151us/step - loss: 0.0090 - acc: 0.9997 - val_loss: 0.5711 - val_acc: 0.8691\n",
            "Epoch 17/20\n",
            "15000/15000 [==============================] - 2s 152us/step - loss: 0.0094 - acc: 0.9991 - val_loss: 0.6051 - val_acc: 0.8688\n",
            "Epoch 18/20\n",
            "15000/15000 [==============================] - 2s 153us/step - loss: 0.0101 - acc: 0.9975 - val_loss: 0.6427 - val_acc: 0.8684\n",
            "Epoch 19/20\n",
            "15000/15000 [==============================] - 2s 152us/step - loss: 0.0038 - acc: 0.9999 - val_loss: 0.7136 - val_acc: 0.8575\n",
            "Epoch 20/20\n",
            "15000/15000 [==============================] - 2s 152us/step - loss: 0.0089 - acc: 0.9976 - val_loss: 0.6978 - val_acc: 0.8681\n"
          ],
          "name": "stdout"
        }
      ]
    },
    {
      "metadata": {
        "id": "afPLe8xrMjQb",
        "colab_type": "code",
        "colab": {
          "base_uri": "https://localhost:8080/",
          "height": 393
        },
        "outputId": "73e65c0c-530c-4b68-f89d-e5b03b3b9df9"
      },
      "cell_type": "code",
      "source": [
        "import matplotlib.pyplot as plt\n",
        "history_dict = history.history\n",
        "loss_values = history_dict['loss']\n",
        "val_loss_values = history_dict['val_loss']\n",
        "acc = history_dict['acc']\n",
        "epochs = list(range(1, len(acc) + 1))\n",
        "plt.plot(epochs, loss_values, 'bo', label='Training loss')\n",
        "plt.plot(epochs, val_loss_values, 'b', label='Validation loss')\n",
        "plt.title('Training and validation loss')\n",
        "plt.xlabel('Epochs')\n",
        "plt.ylabel('Loss')\n",
        "plt.legend()\n",
        "plt.show()\n",
        "print(\"Figure 3.7 Training and validation loss\")"
      ],
      "execution_count": 13,
      "outputs": [
        {
          "output_type": "display_data",
          "data": {
            "image/png": "[encoded data removed]",
            "text/plain": [
              "<matplotlib.figure.Figure at 0x7f90a126d690>"
            ]
          },
          "metadata": {
            "tags": []
          }
        },
        {
          "output_type": "stream",
          "text": [
            "Figure 3.7 Training and validation loss\n"
          ],
          "name": "stdout"
        }
      ]
    },
    {
      "metadata": {
        "id": "74uaka1_MxB9",
        "colab_type": "code",
        "colab": {
          "base_uri": "https://localhost:8080/",
          "height": 393
        },
        "outputId": "8b95915d-5454-46ed-d452-905d62d34eb6"
      },
      "cell_type": "code",
      "source": [
        "plt.clf()\n",
        "acc_values = history_dict['acc']\n",
        "val_acc_values = history_dict['val_acc']\n",
        "plt.plot(epochs, acc, 'bo', label='Training acc')\n",
        "plt.plot(epochs, val_acc_values, 'b', label='Validation acc')\n",
        "plt.title('Training and validation accuracy')\n",
        "plt.xlabel('Epochs')\n",
        "plt.ylabel('Loss')\n",
        "plt.legend()\n",
        "plt.show()\n",
        "print(\"Figure 3.8 Training and validation accuracy\")\n"
      ],
      "execution_count": 14,
      "outputs": [
        {
          "output_type": "display_data",
          "data": {
            "image/png": "[encoded data removed]",
            "text/plain": [
              "<matplotlib.figure.Figure at 0x7f90a1768190>"
            ]
          },
          "metadata": {
            "tags": []
          }
        },
        {
          "output_type": "stream",
          "text": [
            "Figure 3.8 Training and validation accuracy\n"
          ],
          "name": "stdout"
        }
      ]
    },
    {
      "metadata": {
        "id": "oQ57L6M5M4VY",
        "colab_type": "code",
        "colab": {
          "base_uri": "https://localhost:8080/",
          "height": 170
        },
        "outputId": "7604cb9f-678d-49cd-be64-874f24526e2d"
      },
      "cell_type": "code",
      "source": [
        "model = models.Sequential()\n",
        "model.add(layers.Dense(16, activation='relu', input_shape=(10000,)))\n",
        "model.add(layers.Dense(16, activation='relu'))\n",
        "model.add(layers.Dense(1, activation='sigmoid'))\n",
        "model.compile(optimizer='rmsprop',\n",
        "              loss='binary_crossentropy',\n",
        "              metrics=['accuracy'])\n",
        "model.fit(x_train, y_train, epochs=4, batch_size=512)\n",
        "results = model.evaluate(x_test, y_test)"
      ],
      "execution_count": 15,
      "outputs": [
        {
          "output_type": "stream",
          "text": [
            "Epoch 1/4\n",
            "25000/25000 [==============================] - 3s 109us/step - loss: 0.4737 - acc: 0.8222\n",
            "Epoch 2/4\n",
            "25000/25000 [==============================] - 3s 111us/step - loss: 0.2674 - acc: 0.9093\n",
            "Epoch 3/4\n",
            "25000/25000 [==============================] - 3s 109us/step - loss: 0.2033 - acc: 0.9283\n",
            "Epoch 4/4\n",
            "25000/25000 [==============================] - 3s 109us/step - loss: 0.1712 - acc: 0.9386\n",
            "25000/25000 [==============================] - 2s 73us/step\n"
          ],
          "name": "stdout"
        }
      ]
    }
  ]
}