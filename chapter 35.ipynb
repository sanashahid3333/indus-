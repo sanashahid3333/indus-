{
 "cells": [
  {
   "cell_type": "code",
   "execution_count": 1,
   "metadata": {},
   "outputs": [
    {
     "data": {
      "text/plain": [
       "'1895'"
      ]
     },
     "execution_count": 1,
     "metadata": {},
     "output_type": "execute_result"
    }
   ],
   "source": [
    "Students = [ \n",
    "    {\n",
    "        'FirstName': 'Sana',\n",
    "        'LastName': 'Shahid',\n",
    "        'ID': '1895'\n",
    "    },\n",
    "    \n",
    "{\n",
    "    'FirstName': 'Ammara',\n",
    "    'LastName': 'Karim',\n",
    "    'ID': '1719'\n",
    "},\n",
    "]\n",
    "Students\n",
    "a = Students[0]\n",
    "Students_ID = a['ID']\n",
    "\n",
    "Students_ID"
   ]
  },
  {
   "cell_type": "code",
   "execution_count": null,
   "metadata": {},
   "outputs": [],
   "source": []
  }
 ],
 "metadata": {
  "kernelspec": {
   "display_name": "Python 3",
   "language": "python",
   "name": "python3"
  },
  "language_info": {
   "codemirror_mode": {
    "name": "ipython",
    "version": 3
   },
   "file_extension": ".py",
   "mimetype": "text/x-python",
   "name": "python",
   "nbconvert_exporter": "python",
   "pygments_lexer": "ipython3",
   "version": "3.6.5"
  }
 },
 "nbformat": 4,
 "nbformat_minor": 2
}
