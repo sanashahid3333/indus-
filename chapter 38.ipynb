{
 "cells": [
  {
   "cell_type": "code",
   "execution_count": 1,
   "metadata": {},
   "outputs": [
    {
     "name": "stdout",
     "output_type": "stream",
     "text": [
      "yes\n"
     ]
    }
   ],
   "source": [
    "details = {\n",
    "  \"nickname\": \"Sana\",\n",
    "  \"married\": \"no\",\n",
    "  \"careers\": [\"Web Developer\", \"Software Engineer\", \"CEO\"],\n",
    "}\n",
    "if \"Web Developer\" in details[\"careers\"]:\n",
    "  print(\"yes\")\n",
    "else:\n",
    "  print(\"no\")"
   ]
  },
  {
   "cell_type": "code",
   "execution_count": 2,
   "metadata": {},
   "outputs": [
    {
     "name": "stdout",
     "output_type": "stream",
     "text": [
      "Uh-Yes!\n"
     ]
    }
   ],
   "source": [
    "details = {\n",
    "  \"nickname\": \"Sana\",\n",
    "  \"married\": \"yes\",\n",
    "  \"careers\": [\"Web Developer\", \"Web Designer\", \"Singer\", \"Rider\"],\n",
    "}\n",
    "if details[\"married\"] == \"yes\" and \"Web Developer\" in details[\"careers\"]:\n",
    "    print(\"Uh-Yes!\")\n",
    "else:\n",
    "    print(\"no\")"
   ]
  },
  {
   "cell_type": "code",
   "execution_count": null,
   "metadata": {},
   "outputs": [],
   "source": []
  }
 ],
 "metadata": {
  "kernelspec": {
   "display_name": "Python 3",
   "language": "python",
   "name": "python3"
  },
  "language_info": {
   "codemirror_mode": {
    "name": "ipython",
    "version": 3
   },
   "file_extension": ".py",
   "mimetype": "text/x-python",
   "name": "python",
   "nbconvert_exporter": "python",
   "pygments_lexer": "ipython3",
   "version": "3.6.5"
  }
 },
 "nbformat": 4,
 "nbformat_minor": 2
}
