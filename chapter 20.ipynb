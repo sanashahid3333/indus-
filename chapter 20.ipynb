{
 "cells": [
  {
   "cell_type": "code",
   "execution_count": 1,
   "metadata": {},
   "outputs": [
    {
     "name": "stdout",
     "output_type": "stream",
     "text": [
      "('Karachi', 'Lahore', 'Islamabad', 'Faislabad')\n",
      "City Name:Karachi\n",
      "City Name:Lahore\n",
      "City Name:Islamabad\n",
      "City Name:Faislabad\n"
     ]
    }
   ],
   "source": [
    "#Defining a Tuple \n",
    "Tuple1 = (\"Karachi\", \"Lahore\", \"Islamabad\", \"Faislabad\"); \n",
    "print (Tuple1);\n",
    "\n",
    "#Print using for loop\n",
    "for a in Tuple1: \n",
    "    print(\"City Name:\" + a);"
   ]
  },
  {
   "cell_type": "code",
   "execution_count": null,
   "metadata": {},
   "outputs": [],
   "source": []
  }
 ],
 "metadata": {
  "kernelspec": {
   "display_name": "Python 3",
   "language": "python",
   "name": "python3"
  },
  "language_info": {
   "codemirror_mode": {
    "name": "ipython",
    "version": 3
   },
   "file_extension": ".py",
   "mimetype": "text/x-python",
   "name": "python",
   "nbconvert_exporter": "python",
   "pygments_lexer": "ipython3",
   "version": "3.6.5"
  }
 },
 "nbformat": 4,
 "nbformat_minor": 2
}
